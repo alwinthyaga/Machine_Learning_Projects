{
 "cells": [
  {
   "cell_type": "markdown",
   "metadata": {},
   "source": [
    "#### 𝟏.𝐈𝐦𝐩𝐨𝐫𝐭𝐚𝐧𝐭 𝐋𝐢𝐛𝐫𝐚𝐫𝐢𝐞𝐬"
   ]
  },
  {
   "cell_type": "code",
   "execution_count": 1,
   "metadata": {},
   "outputs": [],
   "source": [
    "import pandas as pd\n",
    "import numpy as np\n",
    "import seaborn as sns\n",
    "import matplotlib.pyplot as  plt\n",
    "import warnings\n",
    "from sklearn.preprocessing import LabelEncoder\n",
    "from sklearn.preprocessing import StandardScaler\n",
    "from scipy import stats\n",
    "from sklearn.feature_selection import RFE\n",
    "from sklearn.model_selection import train_test_split\n",
    "from sklearn.linear_model import LogisticRegression\n",
    "from sklearn.metrics import accuracy_score, confusion_matrix, classification_report\n",
    "from sklearn.model_selection import train_test_split, KFold\n",
    "from sklearn.utils import class_weight\n",
    "from sklearn.tree import DecisionTreeClassifier\n",
    "from sklearn.ensemble import RandomForestClassifier\n",
    "from sklearn.tree import plot_tree\n",
    "from sklearn.svm import SVC\n",
    "import matplotlib.pyplot as plt\n",
    "from sklearn.metrics import roc_curve, roc_auc_score\n",
    "warnings.filterwarnings('ignore')"
   ]
  },
  {
   "cell_type": "markdown",
   "metadata": {},
   "source": [
    "#### 𝟐.𝐑𝐞𝐚𝐝𝐢𝐧𝐠 𝐃𝐚𝐭𝐚𝐬𝐞𝐭"
   ]
  },
  {
   "cell_type": "code",
   "execution_count": 2,
   "metadata": {},
   "outputs": [
    {
     "data": {
      "text/plain": [
       "<bound method NDFrame.head of       customerID  gender  SeniorCitizen Partner Dependents  tenure  \\\n",
       "0     7590-VHVEG  Female              0     Yes         No       1   \n",
       "1     5575-GNVDE    Male              0      No         No      34   \n",
       "2     3668-QPYBK    Male              0      No         No       2   \n",
       "3     7795-CFOCW    Male              0      No         No      45   \n",
       "4     9237-HQITU  Female              0      No         No       2   \n",
       "...          ...     ...            ...     ...        ...     ...   \n",
       "7038  6840-RESVB    Male              0     Yes        Yes      24   \n",
       "7039  2234-XADUH  Female              0     Yes        Yes      72   \n",
       "7040  4801-JZAZL  Female              0     Yes        Yes      11   \n",
       "7041  8361-LTMKD    Male              1     Yes         No       4   \n",
       "7042  3186-AJIEK    Male              0      No         No      66   \n",
       "\n",
       "     PhoneService     MultipleLines InternetService OnlineSecurity  ...  \\\n",
       "0              No  No phone service             DSL             No  ...   \n",
       "1             Yes                No             DSL            Yes  ...   \n",
       "2             Yes                No             DSL            Yes  ...   \n",
       "3              No  No phone service             DSL            Yes  ...   \n",
       "4             Yes                No     Fiber optic             No  ...   \n",
       "...           ...               ...             ...            ...  ...   \n",
       "7038          Yes               Yes             DSL            Yes  ...   \n",
       "7039          Yes               Yes     Fiber optic             No  ...   \n",
       "7040           No  No phone service             DSL            Yes  ...   \n",
       "7041          Yes               Yes     Fiber optic             No  ...   \n",
       "7042          Yes                No     Fiber optic            Yes  ...   \n",
       "\n",
       "     DeviceProtection TechSupport StreamingTV StreamingMovies        Contract  \\\n",
       "0                  No          No          No              No  Month-to-month   \n",
       "1                 Yes          No          No              No        One year   \n",
       "2                  No          No          No              No  Month-to-month   \n",
       "3                 Yes         Yes          No              No        One year   \n",
       "4                  No          No          No              No  Month-to-month   \n",
       "...               ...         ...         ...             ...             ...   \n",
       "7038              Yes         Yes         Yes             Yes        One year   \n",
       "7039              Yes          No         Yes             Yes        One year   \n",
       "7040               No          No          No              No  Month-to-month   \n",
       "7041               No          No          No              No  Month-to-month   \n",
       "7042              Yes         Yes         Yes             Yes        Two year   \n",
       "\n",
       "     PaperlessBilling              PaymentMethod MonthlyCharges  TotalCharges  \\\n",
       "0                 Yes           Electronic check          29.85         29.85   \n",
       "1                  No               Mailed check          56.95        1889.5   \n",
       "2                 Yes               Mailed check          53.85        108.15   \n",
       "3                  No  Bank transfer (automatic)          42.30       1840.75   \n",
       "4                 Yes           Electronic check          70.70        151.65   \n",
       "...               ...                        ...            ...           ...   \n",
       "7038              Yes               Mailed check          84.80        1990.5   \n",
       "7039              Yes    Credit card (automatic)         103.20        7362.9   \n",
       "7040              Yes           Electronic check          29.60        346.45   \n",
       "7041              Yes               Mailed check          74.40         306.6   \n",
       "7042              Yes  Bank transfer (automatic)         105.65        6844.5   \n",
       "\n",
       "     Churn  \n",
       "0       No  \n",
       "1       No  \n",
       "2      Yes  \n",
       "3       No  \n",
       "4      Yes  \n",
       "...    ...  \n",
       "7038    No  \n",
       "7039    No  \n",
       "7040    No  \n",
       "7041   Yes  \n",
       "7042    No  \n",
       "\n",
       "[7043 rows x 21 columns]>"
      ]
     },
     "execution_count": 2,
     "metadata": {},
     "output_type": "execute_result"
    }
   ],
   "source": [
    "#𝑹𝒆𝒂𝒅𝒊𝒏𝒈 𝑫𝒂𝒕𝒂𝒔𝒆𝒕\n",
    "df = pd.read_csv('Telecom Customer Churn.csv')\n",
    "df.head"
   ]
  },
  {
   "cell_type": "markdown",
   "metadata": {},
   "source": [
    "#### 𝟑.𝐄𝐱𝐩𝐥𝐨𝐫𝐚𝐭𝐨𝐫𝐲 𝐃𝐚𝐭𝐚 𝐀𝐧𝐚𝐥𝐲𝐬𝐢𝐬(𝐄𝐃𝐀)"
   ]
  },
  {
   "cell_type": "code",
   "execution_count": 3,
   "metadata": {},
   "outputs": [
    {
     "name": "stdout",
     "output_type": "stream",
     "text": [
      "Dataset Info:\n",
      "<class 'pandas.core.frame.DataFrame'>\n",
      "RangeIndex: 7043 entries, 0 to 7042\n",
      "Data columns (total 21 columns):\n",
      " #   Column            Non-Null Count  Dtype  \n",
      "---  ------            --------------  -----  \n",
      " 0   customerID        7043 non-null   object \n",
      " 1   gender            7043 non-null   object \n",
      " 2   SeniorCitizen     7043 non-null   int64  \n",
      " 3   Partner           7043 non-null   object \n",
      " 4   Dependents        7043 non-null   object \n",
      " 5   tenure            7043 non-null   int64  \n",
      " 6   PhoneService      7043 non-null   object \n",
      " 7   MultipleLines     7043 non-null   object \n",
      " 8   InternetService   7043 non-null   object \n",
      " 9   OnlineSecurity    7043 non-null   object \n",
      " 10  OnlineBackup      7043 non-null   object \n",
      " 11  DeviceProtection  7043 non-null   object \n",
      " 12  TechSupport       7043 non-null   object \n",
      " 13  StreamingTV       7043 non-null   object \n",
      " 14  StreamingMovies   7043 non-null   object \n",
      " 15  Contract          7043 non-null   object \n",
      " 16  PaperlessBilling  7043 non-null   object \n",
      " 17  PaymentMethod     7043 non-null   object \n",
      " 18  MonthlyCharges    7043 non-null   float64\n",
      " 19  TotalCharges      7043 non-null   object \n",
      " 20  Churn             7043 non-null   object \n",
      "dtypes: float64(1), int64(2), object(18)\n",
      "memory usage: 1.1+ MB\n",
      "None\n",
      "\n",
      "Summary Statistics:\n",
      "       SeniorCitizen       tenure  MonthlyCharges\n",
      "count    7043.000000  7043.000000     7043.000000\n",
      "mean        0.162147    32.371149       64.761692\n",
      "std         0.368612    24.559481       30.090047\n",
      "min         0.000000     0.000000       18.250000\n",
      "25%         0.000000     9.000000       35.500000\n",
      "50%         0.000000    29.000000       70.350000\n",
      "75%         0.000000    55.000000       89.850000\n",
      "max         1.000000    72.000000      118.750000\n",
      "\n",
      "Missing Values:\n",
      "customerID          0\n",
      "gender              0\n",
      "SeniorCitizen       0\n",
      "Partner             0\n",
      "Dependents          0\n",
      "tenure              0\n",
      "PhoneService        0\n",
      "MultipleLines       0\n",
      "InternetService     0\n",
      "OnlineSecurity      0\n",
      "OnlineBackup        0\n",
      "DeviceProtection    0\n",
      "TechSupport         0\n",
      "StreamingTV         0\n",
      "StreamingMovies     0\n",
      "Contract            0\n",
      "PaperlessBilling    0\n",
      "PaymentMethod       0\n",
      "MonthlyCharges      0\n",
      "TotalCharges        0\n",
      "Churn               0\n",
      "dtype: int64\n"
     ]
    }
   ],
   "source": [
    "#B𝒂𝒔𝒊𝒄 𝑰𝒏𝒇𝒐𝒓𝒎𝒂𝒕𝒊𝒐𝒏 𝒂𝒏𝒅 𝑺𝒖𝒎𝒎𝒂𝒓𝒚 𝑺𝒕𝒂𝒕𝒊𝒔𝒕𝒊𝒄𝒔\n",
    "# Basic Info\n",
    "print(\"Dataset Info:\")\n",
    "print(df.info())\n",
    "\n",
    "print(\"\\nSummary Statistics:\")\n",
    "print(df.describe())\n",
    "\n",
    "print(\"\\nMissing Values:\")\n",
    "print(df.isnull().sum())"
   ]
  },
  {
   "cell_type": "code",
   "execution_count": 4,
   "metadata": {},
   "outputs": [],
   "source": [
    "df = df.drop(columns=['customerID'])\n"
   ]
  },
  {
   "cell_type": "code",
   "execution_count": 5,
   "metadata": {},
   "outputs": [
    {
     "data": {
      "image/png": "[encoded data removed]",
      "text/plain": [
       "<Figure size 1800x1200 with 5 Axes>"
      ]
     },
     "metadata": {},
     "output_type": "display_data"
    },
    {
     "data": {
      "text/plain": [
       "<Figure size 640x480 with 0 Axes>"
      ]
     },
     "metadata": {},
     "output_type": "display_data"
    }
   ],
   "source": [
    "#𝑪𝒂𝒕𝒆𝒈𝒐𝒓𝒊𝒄𝒂𝒍 𝑽𝒂𝒓𝒊𝒂𝒃𝒍𝒆 𝑨𝒏𝒂𝒍𝒚𝒔𝒊𝒔\n",
    "\n",
    "# Set the visual theme\n",
    "sns.set(style=\"whitegrid\")\n",
    "\n",
    "# Create a figure with 2 rows and 3 columns for the subplots\n",
    "fig, axes = plt.subplots(2, 3, figsize=(18, 12))\n",
    "\n",
    "# Churn Distribution\n",
    "sns.countplot(df, x='Churn', palette='Set2', ax=axes[0, 0])\n",
    "axes[0, 0].set_title('Churn Distribution')\n",
    "axes[0, 0].set_xlabel('Churn')\n",
    "axes[0, 0].set_ylabel('Count')\n",
    "\n",
    "# Tenure Distribution\n",
    "sns.histplot(df, x='tenure', kde=True, bins=30, color='blue', ax=axes[0, 1])\n",
    "axes[0, 1].set_title('Distribution of Tenure')\n",
    "axes[0, 1].set_xlabel('Tenure (months)')\n",
    "axes[0, 1].set_ylabel('Count')\n",
    "\n",
    "# Monthly Charges vs. Churn\n",
    "sns.boxplot(df, x='Churn', y='MonthlyCharges', palette='Set3', ax=axes[0, 2])\n",
    "axes[0, 2].set_title('Monthly Charges vs. Churn')\n",
    "axes[0, 2].set_xlabel('Churn')\n",
    "axes[0, 2].set_ylabel('Monthly Charges')\n",
    "\n",
    "# Service Usage vs. Churn (InternetService)\n",
    "sns.countplot(df, x='InternetService', hue='Churn', palette='Set1', ax=axes[1, 0])\n",
    "axes[1, 0].set_title('Internet Service Usage vs. Churn')\n",
    "axes[1, 0].set_xlabel('Internet Service')\n",
    "axes[1, 0].set_ylabel('Count')\n",
    "axes[1, 0].legend(title='Churn')\n",
    "\n",
    "# Service Usage vs. Churn (TechSupport)\n",
    "sns.countplot(df, x='TechSupport', hue='Churn', palette='Set1', ax=axes[1, 1])\n",
    "axes[1, 1].set_title('Tech Support Usage vs. Churn')\n",
    "axes[1, 1].set_xlabel('Tech Support')\n",
    "axes[1, 1].set_ylabel('Count')\n",
    "axes[1, 1].legend(title='Churn')\n",
    "\n",
    "# Remove the empty subplot (if any)\n",
    "fig.delaxes(axes[1, 2])\n",
    "\n",
    "# Adjust layout\n",
    "plt.tight_layout()\n",
    "plt.show()\n",
    "plt.savefig('pic.png')\n"
   ]
  },
  {
   "cell_type": "code",
   "execution_count": 6,
   "metadata": {},
   "outputs": [
    {
     "name": "stdout",
     "output_type": "stream",
     "text": [
      "<class 'pandas.core.frame.DataFrame'>\n",
      "RangeIndex: 7043 entries, 0 to 7042\n",
      "Data columns (total 20 columns):\n",
      " #   Column            Non-Null Count  Dtype  \n",
      "---  ------            --------------  -----  \n",
      " 0   gender            7043 non-null   object \n",
      " 1   SeniorCitizen     7043 non-null   int64  \n",
      " 2   Partner           7043 non-null   object \n",
      " 3   Dependents        7043 non-null   object \n",
      " 4   tenure            7043 non-null   int64  \n",
      " 5   PhoneService      7043 non-null   object \n",
      " 6   MultipleLines     7043 non-null   object \n",
      " 7   InternetService   7043 non-null   object \n",
      " 8   OnlineSecurity    7043 non-null   object \n",
      " 9   OnlineBackup      7043 non-null   object \n",
      " 10  DeviceProtection  7043 non-null   object \n",
      " 11  TechSupport       7043 non-null   object \n",
      " 12  StreamingTV       7043 non-null   object \n",
      " 13  StreamingMovies   7043 non-null   object \n",
      " 14  Contract          7043 non-null   object \n",
      " 15  PaperlessBilling  7043 non-null   object \n",
      " 16  PaymentMethod     7043 non-null   object \n",
      " 17  MonthlyCharges    7043 non-null   float64\n",
      " 18  TotalCharges      7043 non-null   object \n",
      " 19  Churn             7043 non-null   object \n",
      "dtypes: float64(1), int64(2), object(17)\n",
      "memory usage: 1.1+ MB\n"
     ]
    }
   ],
   "source": [
    "# 𝑫𝒊𝒔𝒑𝒍𝒂𝒚 𝒃𝒂𝒔𝒊𝒄 𝒊𝒏𝒇𝒐 𝒂𝒏𝒅 𝒔𝒖𝒎𝒎𝒂𝒓𝒚 𝒔𝒕𝒂𝒕𝒊𝒔𝒕𝒊𝒄𝒔\n",
    "dataset_info = df.info()\n",
    "summary_statistics = df.describe()\n",
    "missing_values = df.isnull().sum()"
   ]
  },
  {
   "cell_type": "markdown",
   "metadata": {},
   "source": [
    "#### 4.𝐃𝐚𝐭𝐚 𝐏𝐫𝐞𝐩𝐫𝐨𝐜𝐞𝐬𝐬𝐢𝐧𝐠"
   ]
  },
  {
   "cell_type": "code",
   "execution_count": 7,
   "metadata": {},
   "outputs": [
    {
     "data": {
      "text/plain": [
       "gender              0\n",
       "SeniorCitizen       0\n",
       "Partner             0\n",
       "Dependents          0\n",
       "tenure              0\n",
       "PhoneService        0\n",
       "MultipleLines       0\n",
       "InternetService     0\n",
       "OnlineSecurity      0\n",
       "OnlineBackup        0\n",
       "DeviceProtection    0\n",
       "TechSupport         0\n",
       "StreamingTV         0\n",
       "StreamingMovies     0\n",
       "Contract            0\n",
       "PaperlessBilling    0\n",
       "PaymentMethod       0\n",
       "MonthlyCharges      0\n",
       "TotalCharges        0\n",
       "Churn               0\n",
       "dtype: int64"
      ]
     },
     "execution_count": 7,
     "metadata": {},
     "output_type": "execute_result"
    }
   ],
   "source": [
    "#𝑴𝒊𝒔𝒔𝒊𝒏𝒈 𝒗𝒂𝒍𝒖𝒆𝒔\n",
    "df.isnull().sum()\n"
   ]
  },
  {
   "cell_type": "code",
   "execution_count": 8,
   "metadata": {},
   "outputs": [
    {
     "name": "stdout",
     "output_type": "stream",
     "text": [
      "<class 'pandas.core.frame.DataFrame'>\n",
      "RangeIndex: 7043 entries, 0 to 7042\n",
      "Data columns (total 20 columns):\n",
      " #   Column            Non-Null Count  Dtype  \n",
      "---  ------            --------------  -----  \n",
      " 0   gender            7043 non-null   object \n",
      " 1   SeniorCitizen     7043 non-null   int64  \n",
      " 2   Partner           7043 non-null   object \n",
      " 3   Dependents        7043 non-null   object \n",
      " 4   tenure            7043 non-null   int64  \n",
      " 5   PhoneService      7043 non-null   object \n",
      " 6   MultipleLines     7043 non-null   object \n",
      " 7   InternetService   7043 non-null   object \n",
      " 8   OnlineSecurity    7043 non-null   object \n",
      " 9   OnlineBackup      7043 non-null   object \n",
      " 10  DeviceProtection  7043 non-null   object \n",
      " 11  TechSupport       7043 non-null   object \n",
      " 12  StreamingTV       7043 non-null   object \n",
      " 13  StreamingMovies   7043 non-null   object \n",
      " 14  Contract          7043 non-null   object \n",
      " 15  PaperlessBilling  7043 non-null   object \n",
      " 16  PaymentMethod     7043 non-null   object \n",
      " 17  MonthlyCharges    7043 non-null   float64\n",
      " 18  TotalCharges      7043 non-null   object \n",
      " 19  Churn             7043 non-null   object \n",
      "dtypes: float64(1), int64(2), object(17)\n",
      "memory usage: 1.1+ MB\n"
     ]
    }
   ],
   "source": [
    "#𝑫𝒕𝒚𝒑𝒆 𝑪𝒉𝒂𝒏𝒈𝒊𝒏𝒈\n",
    "df.info()"
   ]
  },
  {
   "cell_type": "code",
   "execution_count": 9,
   "metadata": {},
   "outputs": [
    {
     "data": {
      "text/plain": [
       "gender              0\n",
       "SeniorCitizen       0\n",
       "Partner             0\n",
       "Dependents          0\n",
       "tenure              0\n",
       "PhoneService        0\n",
       "MultipleLines       0\n",
       "InternetService     0\n",
       "OnlineSecurity      0\n",
       "OnlineBackup        0\n",
       "DeviceProtection    0\n",
       "TechSupport         0\n",
       "StreamingTV         0\n",
       "StreamingMovies     0\n",
       "Contract            0\n",
       "PaperlessBilling    0\n",
       "PaymentMethod       0\n",
       "MonthlyCharges      0\n",
       "TotalCharges        0\n",
       "Churn               0\n",
       "dtype: int64"
      ]
     },
     "execution_count": 9,
     "metadata": {},
     "output_type": "execute_result"
    }
   ],
   "source": [
    "df['TotalCharges'] = pd.to_numeric(df['TotalCharges'], errors='coerce')\n",
    "df.isnull().sum()\n",
    "df['TotalCharges'] = df['TotalCharges'].fillna(df['TotalCharges'].mean())\n",
    "df.isnull().sum()\n"
   ]
  },
  {
   "cell_type": "code",
   "execution_count": 10,
   "metadata": {},
   "outputs": [
    {
     "name": "stdout",
     "output_type": "stream",
     "text": [
      "   gender  SeniorCitizen Partner Dependents    tenure PhoneService  \\\n",
      "0  Female      -0.439916     Yes         No -1.277445           No   \n",
      "1    Male      -0.439916      No         No  0.066327          Yes   \n",
      "2    Male      -0.439916      No         No -1.236724          Yes   \n",
      "3    Male      -0.439916      No         No  0.514251           No   \n",
      "4  Female      -0.439916      No         No -1.236724          Yes   \n",
      "\n",
      "      MultipleLines InternetService OnlineSecurity OnlineBackup  \\\n",
      "0  No phone service             DSL             No          Yes   \n",
      "1                No             DSL            Yes           No   \n",
      "2                No             DSL            Yes          Yes   \n",
      "3  No phone service             DSL            Yes           No   \n",
      "4                No     Fiber optic             No           No   \n",
      "\n",
      "  DeviceProtection TechSupport StreamingTV StreamingMovies        Contract  \\\n",
      "0               No          No          No              No  Month-to-month   \n",
      "1              Yes          No          No              No        One year   \n",
      "2               No          No          No              No  Month-to-month   \n",
      "3              Yes         Yes          No              No        One year   \n",
      "4               No          No          No              No  Month-to-month   \n",
      "\n",
      "  PaperlessBilling              PaymentMethod  MonthlyCharges  TotalCharges  \\\n",
      "0              Yes           Electronic check       -1.160323     -0.994971   \n",
      "1               No               Mailed check       -0.259629     -0.173876   \n",
      "2              Yes               Mailed check       -0.362660     -0.960399   \n",
      "3               No  Bank transfer (automatic)       -0.746535     -0.195400   \n",
      "4              Yes           Electronic check        0.197365     -0.941193   \n",
      "\n",
      "  Churn  \n",
      "0    No  \n",
      "1    No  \n",
      "2   Yes  \n",
      "3    No  \n",
      "4   Yes  \n"
     ]
    }
   ],
   "source": [
    "\n",
    "# Feature Scaling\n",
    "\n",
    "# Select numerical columns\n",
    "numerical_cols = ['tenure', 'MonthlyCharges', 'TotalCharges', 'SeniorCitizen']\n",
    "\n",
    "# Fill missing values in TotalCharges\n",
    "df['TotalCharges'] = df['TotalCharges'].fillna(df['TotalCharges'].mean())\n",
    "\n",
    "# Initialize the StandardScaler\n",
    "from sklearn.preprocessing import StandardScaler\n",
    "scaler = StandardScaler()\n",
    "\n",
    "# Fit and transform the data\n",
    "df[numerical_cols] = scaler.fit_transform(df[numerical_cols])\n",
    "\n",
    "# Check the first few rows of the scaled data\n",
    "print(df.head())\n"
   ]
  },
  {
   "cell_type": "markdown",
   "metadata": {},
   "source": [
    "#### 𝟓.𝐂𝐥𝐚𝐬𝐬 𝐈𝐦𝐛𝐚𝐥𝐚𝐧𝐜𝐞 𝐑𝐞𝐬𝐨𝐥𝐮𝐭𝐢𝐨𝐧"
   ]
  },
  {
   "cell_type": "code",
   "execution_count": 11,
   "metadata": {},
   "outputs": [
    {
     "name": "stdout",
     "output_type": "stream",
     "text": [
      "Class Counts:\n",
      "Churn\n",
      "No     5174\n",
      "Yes    1869\n",
      "Name: count, dtype: int64\n",
      "\n",
      "Class Distribution:\n",
      "Churn\n",
      "No     0.73463\n",
      "Yes    0.26537\n",
      "Name: count, dtype: float64\n",
      "\n",
      "Class Balance Ratio: 2.7683253076511503\n",
      "Class Imbalance Ratio: 0.36122922303826827\n"
     ]
    }
   ],
   "source": [
    "\n",
    "\n",
    "# Calculate class counts and distribution\n",
    "class_counts = df['Churn'].value_counts()\n",
    "class_distribution = class_counts / len(df)\n",
    "\n",
    "# Print class counts and distribution\n",
    "print(\"Class Counts:\")\n",
    "print(class_counts)\n",
    "print(\"\\nClass Distribution:\")\n",
    "print(class_distribution)\n",
    "\n",
    "# Calculate class imbalance metrics\n",
    "majority_class = class_counts.idxmax()\n",
    "minority_class = class_counts.idxmin()\n",
    "class_balance_ratio = class_counts[majority_class] / class_counts[minority_class]\n",
    "class_imbalance_ratio = class_counts[minority_class] / class_counts[majority_class]\n",
    "\n",
    "# Print class imbalance metrics\n",
    "print(\"\\nClass Balance Ratio:\", class_balance_ratio)\n",
    "print(\"Class Imbalance Ratio:\", class_imbalance_ratio)\n",
    "\n",
    "# Check for significant class imbalance\n",
    "if class_balance_ratio > 5:\n",
    "    print(\"Significant class imbalance detected\")\n"
   ]
  },
  {
   "cell_type": "markdown",
   "metadata": {},
   "source": [
    "#### 6.𝐎𝐮𝐭𝐥𝐢𝐞𝐫𝐬 𝐃𝐞𝐭𝐞𝐜𝐭𝐢𝐨𝐧"
   ]
  },
  {
   "cell_type": "code",
   "execution_count": 12,
   "metadata": {},
   "outputs": [
    {
     "name": "stdout",
     "output_type": "stream",
     "text": [
      "Number of outliers detected: 0\n"
     ]
    },
    {
     "data": {
      "text/html": [
       "<div>\n",
       "<style scoped>\n",
       "    .dataframe tbody tr th:only-of-type {\n",
       "        vertical-align: middle;\n",
       "    }\n",
       "\n",
       "    .dataframe tbody tr th {\n",
       "        vertical-align: top;\n",
       "    }\n",
       "\n",
       "    .dataframe thead th {\n",
       "        text-align: right;\n",
       "    }\n",
       "</style>\n",
       "<table border=\"1\" class=\"dataframe\">\n",
       "  <thead>\n",
       "    <tr style=\"text-align: right;\">\n",
       "      <th></th>\n",
       "      <th>gender</th>\n",
       "      <th>SeniorCitizen</th>\n",
       "      <th>Partner</th>\n",
       "      <th>Dependents</th>\n",
       "      <th>tenure</th>\n",
       "      <th>PhoneService</th>\n",
       "      <th>MultipleLines</th>\n",
       "      <th>InternetService</th>\n",
       "      <th>OnlineSecurity</th>\n",
       "      <th>OnlineBackup</th>\n",
       "      <th>DeviceProtection</th>\n",
       "      <th>TechSupport</th>\n",
       "      <th>StreamingTV</th>\n",
       "      <th>StreamingMovies</th>\n",
       "      <th>Contract</th>\n",
       "      <th>PaperlessBilling</th>\n",
       "      <th>PaymentMethod</th>\n",
       "      <th>MonthlyCharges</th>\n",
       "      <th>TotalCharges</th>\n",
       "      <th>Churn</th>\n",
       "    </tr>\n",
       "  </thead>\n",
       "  <tbody>\n",
       "  </tbody>\n",
       "</table>\n",
       "</div>"
      ],
      "text/plain": [
       "Empty DataFrame\n",
       "Columns: [gender, SeniorCitizen, Partner, Dependents, tenure, PhoneService, MultipleLines, InternetService, OnlineSecurity, OnlineBackup, DeviceProtection, TechSupport, StreamingTV, StreamingMovies, Contract, PaperlessBilling, PaymentMethod, MonthlyCharges, TotalCharges, Churn]\n",
       "Index: []"
      ]
     },
     "execution_count": 12,
     "metadata": {},
     "output_type": "execute_result"
    }
   ],
   "source": [
    "#𝑶𝒖𝒕𝒍𝒊𝒆𝒓𝒔 𝑫𝒆𝒕𝒆𝒄𝒕𝒊𝒐𝒏\n",
    "\n",
    "# Calculate Z-scores for the numerical columns\n",
    "z_scores = np.abs(scaler.fit_transform(df[numerical_cols]))\n",
    "\n",
    "# Define a threshold for identifying outliers\n",
    "threshold = 3\n",
    "\n",
    "# Identify outliers\n",
    "outliers = (z_scores > threshold).any(axis=1)\n",
    "\n",
    "# Display the outliers\n",
    "outliers_data = df[outliers]\n",
    "print(f\"Number of outliers detected: {outliers_data.shape[0]}\")\n",
    "outliers_data.head()\n"
   ]
  },
  {
   "cell_type": "code",
   "execution_count": 13,
   "metadata": {},
   "outputs": [
    {
     "name": "stdout",
     "output_type": "stream",
     "text": [
      "Index(['gender', 'Partner', 'Dependents', 'PhoneService', 'MultipleLines',\n",
      "       'InternetService', 'OnlineSecurity', 'OnlineBackup', 'DeviceProtection',\n",
      "       'TechSupport', 'StreamingTV', 'StreamingMovies', 'Contract',\n",
      "       'PaperlessBilling', 'PaymentMethod', 'Churn'],\n",
      "      dtype='object')\n"
     ]
    }
   ],
   "source": [
    "categorical_cols = df.select_dtypes(include=['object', 'category']).columns\n",
    "print(categorical_cols)\n"
   ]
  },
  {
   "cell_type": "markdown",
   "metadata": {},
   "source": [
    "#### 𝟕.𝐅𝐞𝐚𝐭𝐮𝐫𝐞 𝐒𝐞𝐥𝐞𝐜𝐭𝐢𝐨𝐧"
   ]
  },
  {
   "cell_type": "markdown",
   "metadata": {},
   "source": [
    "##### 1.🇫​🇪​🇦​🇹​🇺​🇷​🇪​ 🇸​🇪​🇱​🇪​🇨​🇹​🇮​🇴​🇳​ 🇺​🇸​🇮​🇳​🇬​ 🇲​🇺​🇹​🇺​🇦​🇱​ 🇮​🇳​🇳​🇫​🇴​🇷​🇲​🇦​🇹​🇮​🇴​🇳​ 🇹​🇪​🇨​🇭​🇳​🇮​🇶​🇺​🇪​"
   ]
  },
  {
   "cell_type": "code",
   "execution_count": 14,
   "metadata": {},
   "outputs": [],
   "source": [
    "# Identify categorical columns\n",
    "categorical_cols = df.select_dtypes(include=['object']).columns\n",
    "\n",
    "# Create an instance of LabelEncoder\n",
    "le = LabelEncoder()\n",
    "\n",
    "# Apply LabelEncoder to each categorical column\n",
    "for col in categorical_cols:\n",
    "    df[col] = le.fit_transform(df[col])"
   ]
  },
  {
   "cell_type": "code",
   "execution_count": 15,
   "metadata": {},
   "outputs": [],
   "source": [
    "from sklearn.feature_selection import mutual_info_classif\n",
    "mutual_info = mutual_info_classif(df, df['Churn'])"
   ]
  },
  {
   "cell_type": "code",
   "execution_count": 16,
   "metadata": {},
   "outputs": [
    {
     "name": "stdout",
     "output_type": "stream",
     "text": [
      "14            Contract\n",
      "4               tenure\n",
      "8       OnlineSecurity\n",
      "7      InternetService\n",
      "11         TechSupport\n",
      "9         OnlineBackup\n",
      "17      MonthlyCharges\n",
      "10    DeviceProtection\n",
      "16       PaymentMethod\n",
      "18        TotalCharges\n",
      "Name: feature, dtype: object\n"
     ]
    }
   ],
   "source": [
    "# Calculate mutual information\n",
    "mutual_info = mutual_info_classif(df.drop('Churn', axis=1), df['Churn'])\n",
    "\n",
    "# Get the feature names\n",
    "feature_names = df.columns.drop('Churn')\n",
    "\n",
    "# Combine feature names and mutual information values\n",
    "mutual_info_df = pd.DataFrame({'feature': feature_names, 'mutual_info': mutual_info})\n",
    "\n",
    "# Sort by mutual information in descending order\n",
    "mutual_info_df = mutual_info_df.sort_values('mutual_info', ascending=False)\n",
    "\n",
    "# Select the top features\n",
    "top_features = mutual_info_df['feature'].head(10)  # Select top 5 features\n",
    "\n",
    "print(top_features)\n"
   ]
  },
  {
   "cell_type": "markdown",
   "metadata": {},
   "source": [
    "##### 𝗥𝗲𝗰𝘂𝗿𝘀𝗶𝘃𝗲 𝗙𝗲𝗮𝘁𝘂𝗿𝗲 𝗘𝗹𝗶𝗺𝗶𝗻𝗮𝘁𝗶𝗼𝗻"
   ]
  },
  {
   "cell_type": "code",
   "execution_count": 17,
   "metadata": {},
   "outputs": [
    {
     "name": "stdout",
     "output_type": "stream",
     "text": [
      "Selected Features: ['tenure', 'Contract']\n",
      "Accuracy: 0.73\n",
      "Feature Ranking:\n",
      "Feature gender: Rank 13\n",
      "Feature SeniorCitizen: Rank 11\n",
      "Feature Partner: Rank 18\n",
      "Feature Dependents: Rank 9\n",
      "Feature tenure: Rank 1\n",
      "Feature PhoneService: Rank 3\n",
      "Feature MultipleLines: Rank 12\n",
      "Feature InternetService: Rank 8\n",
      "Feature OnlineSecurity: Rank 6\n",
      "Feature OnlineBackup: Rank 10\n",
      "Feature DeviceProtection: Rank 14\n",
      "Feature TechSupport: Rank 7\n",
      "Feature StreamingTV: Rank 16\n",
      "Feature StreamingMovies: Rank 17\n",
      "Feature Contract: Rank 1\n",
      "Feature PaperlessBilling: Rank 5\n",
      "Feature PaymentMethod: Rank 15\n",
      "Feature MonthlyCharges: Rank 2\n",
      "Feature TotalCharges: Rank 4\n"
     ]
    }
   ],
   "source": [
    "from sklearn.feature_selection import RFE\n",
    "from sklearn.linear_model import LogisticRegression\n",
    "from sklearn.model_selection import train_test_split\n",
    "from sklearn.metrics import accuracy_score\n",
    "\n",
    "# Separate features and target variable\n",
    "X = df.drop('Churn', axis=1)  # Drop the 'Churn' column to get features\n",
    "y = df['Churn']               # 'Churn' column is the target variable\n",
    "\n",
    "# Split data into training and test sets\n",
    "X_train, X_test, y_train, y_test = train_test_split(X, y, test_size=0.3, random_state=42)\n",
    "\n",
    "# Initialize the model\n",
    "model = LogisticRegression(max_iter=1000)\n",
    "\n",
    "# Initialize RFE with the model and the number of features to select\n",
    "selector = RFE(estimator=model, n_features_to_select=2)\n",
    "\n",
    "# Fit RFE\n",
    "selector = selector.fit(X_train, y_train)\n",
    "\n",
    "# Get the selected feature names\n",
    "selected_feature_names = X.columns[selector.support_]\n",
    "print(f\"Selected Features: {selected_feature_names.tolist()}\")\n",
    "\n",
    "# Transform the dataset to only include selected features\n",
    "X_train_selected = selector.transform(X_train)\n",
    "X_test_selected = selector.transform(X_test)\n",
    "\n",
    "# Train the model with selected features\n",
    "model.fit(X_train_selected, y_train)\n",
    "\n",
    "# Make predictions\n",
    "y_pred = model.predict(X_test_selected)\n",
    "\n",
    "# Evaluate the model\n",
    "accuracy = accuracy_score(y_test, y_pred)\n",
    "print(f\"Accuracy: {accuracy:.2f}\")\n",
    "\n",
    "# Feature ranking\n",
    "print(\"Feature Ranking:\")\n",
    "for i, rank in enumerate(selector.ranking_):\n",
    "    print(f\"Feature {X.columns[i]}: Rank {rank}\")\n"
   ]
  },
  {
   "cell_type": "markdown",
   "metadata": {},
   "source": [
    "##### 3.🇫​🇪​🇦​🇹​🇺​🇷​🇪​ 🇸​🇪​🇱​🇪​🇨​🇹​🇮​🇴​🇳​ 🇺​🇸​🇮​🇳​🇬​ 🇭​🇾​🇵​🇴​🇹​🇭​🇪​🇸​🇮​🇸​ 🇹​🇪​🇸​🇹​🇮​🇳​🇬​ 🇹​🇪​🇨​🇭​🇳​🇮​🇶​🇺​🇪​"
   ]
  },
  {
   "cell_type": "code",
   "execution_count": 18,
   "metadata": {},
   "outputs": [
    {
     "name": "stdout",
     "output_type": "stream",
     "text": [
      "SeniorCitizen is relevant (p-value: 0.0000)\n",
      "Partner is relevant (p-value: 0.0000)\n",
      "Dependents is relevant (p-value: 0.0000)\n",
      "tenure is relevant (p-value: 0.0000)\n",
      "MultipleLines is relevant (p-value: 0.0014)\n",
      "InternetService is relevant (p-value: 0.0001)\n",
      "OnlineSecurity is relevant (p-value: 0.0000)\n",
      "OnlineBackup is relevant (p-value: 0.0000)\n",
      "DeviceProtection is relevant (p-value: 0.0000)\n",
      "TechSupport is relevant (p-value: 0.0000)\n",
      "StreamingTV is relevant (p-value: 0.0021)\n",
      "StreamingMovies is relevant (p-value: 0.0012)\n",
      "Contract is relevant (p-value: 0.0000)\n",
      "PaperlessBilling is relevant (p-value: 0.0000)\n",
      "PaymentMethod is relevant (p-value: 0.0000)\n",
      "MonthlyCharges is relevant (p-value: 0.0000)\n",
      "TotalCharges is relevant (p-value: 0.0000)\n"
     ]
    }
   ],
   "source": [
    "\n",
    "from scipy.stats import ttest_ind, chi2_contingency\n",
    "import pandas as pd\n",
    "\n",
    "def feature_relevance_test(data, feature, target):\n",
    "    if data[feature].dtype == 'object':\n",
    "        contingency_table = pd.crosstab(data[feature], data[target])\n",
    "        chi2_stat, p_val, dof, expected = chi2_contingency(contingency_table)\n",
    "        if p_val < 0.05:\n",
    "            print(f\"{feature} is relevant (p-value: {p_val:.4f})\")\n",
    "    else:\n",
    "        t_stat, p_val = ttest_ind(data[feature][data[target] == 0], data[feature][data[target] == 1])\n",
    "        if p_val < 0.05:\n",
    "            print(f\"{feature} is relevant (p-value: {p_val:.4f})\")\n",
    "\n",
    "data = df\n",
    "target = 'Churn'\n",
    "for feature in data.columns:\n",
    "    if feature != target:\n",
    "        feature_relevance_test(data, feature, target)\n",
    "\n"
   ]
  },
  {
   "cell_type": "markdown",
   "metadata": {},
   "source": [
    "#### 𝐌𝐨𝐝𝐞𝐥 𝐒𝐞𝐥𝐞𝐜𝐭𝐢𝐨𝐧"
   ]
  },
  {
   "cell_type": "markdown",
   "metadata": {},
   "source": [
    "##### 1.🇱​🇴​🇬​🇮​🇸​🇹​🇮​🇨​ 🇷​🇪​🇬​🇷​🇪​🇸​🇸​🇮​🇴​🇳​(🇫​🇸​1)"
   ]
  },
  {
   "cell_type": "code",
   "execution_count": 19,
   "metadata": {},
   "outputs": [
    {
     "name": "stdout",
     "output_type": "stream",
     "text": [
      "Accuracy: 0.8090844570617459\n",
      "Classification Report:\n",
      "              precision    recall  f1-score   support\n",
      "\n",
      "           0       0.86      0.89      0.87      1036\n",
      "           1       0.66      0.58      0.62       373\n",
      "\n",
      "    accuracy                           0.81      1409\n",
      "   macro avg       0.76      0.74      0.75      1409\n",
      "weighted avg       0.80      0.81      0.81      1409\n",
      "\n",
      "Confusion Matrix:\n",
      "[[923 113]\n",
      " [156 217]]\n"
     ]
    }
   ],
   "source": [
    "\n",
    "# Prepare data\n",
    "feature_columns = features =[\"Contract\", \"tenure\", \"OnlineSecurity\", \"TechSupport\", \n",
    "\"InternetService\", \"PaymentMethod\", \"MonthlyCharges\", \"TotalCharges\", \"DeviceProtection\", \"OnlineBackup\"] # Replace with your actual feature columns\n",
    "target_column = 'Churn'  # Replace with your actual target column\n",
    "X = df[feature_columns]\n",
    "y = df[target_column]\n",
    "\n",
    "# Split data\n",
    "X_train, X_test, y_train, y_test = train_test_split(X, y, test_size=0.2, random_state=42)\n",
    "\n",
    "# Create a Logistic Regression model\n",
    "model1 = LogisticRegression(max_iter=1000)\n",
    "\n",
    "# Train the model\n",
    "model1.fit(X_train, y_train)\n",
    "\n",
    "# Make predictions\n",
    "y_pred = model1.predict(X_test)\n",
    "\n",
    "# Evaluate the model\n",
    "accuracy = accuracy_score(y_test, y_pred)\n",
    "print(\"Accuracy:\", accuracy)\n",
    "print(\"Classification Report:\")\n",
    "print(classification_report(y_test, y_pred))\n",
    "print(\"Confusion Matrix:\")\n",
    "print(confusion_matrix(y_test, y_pred))"
   ]
  },
  {
   "cell_type": "markdown",
   "metadata": {},
   "source": [
    "##### 2.🇱​🇴​🇬​🇮​🇸​🇹​🇮​🇨​ 🇷​🇪​🇬​🇷​🇪​🇸​🇸​🇮​🇴​🇳​(🇫​🇸​2)"
   ]
  },
  {
   "cell_type": "code",
   "execution_count": 20,
   "metadata": {},
   "outputs": [
    {
     "name": "stdout",
     "output_type": "stream",
     "text": [
      "Accuracy: 0.8161816891412349\n",
      "Classification Report:\n",
      "              precision    recall  f1-score   support\n",
      "\n",
      "           0       0.85      0.90      0.88      1036\n",
      "           1       0.68      0.57      0.62       373\n",
      "\n",
      "    accuracy                           0.82      1409\n",
      "   macro avg       0.77      0.74      0.75      1409\n",
      "weighted avg       0.81      0.82      0.81      1409\n",
      "\n",
      "Confusion Matrix:\n",
      "[[937  99]\n",
      " [160 213]]\n"
     ]
    }
   ],
   "source": [
    "\n",
    "# Prepare data\n",
    "feature_columns = features =[\"Contract\", \"tenure\", \"TechSupport\", \"OnlineSecurity\", \"MonthlyCharges\", \n",
    "\"TotalCharges\", \"InternetService\", \"SeniorCitizen\", \"PaymentMethod\", \"PaperlessBilling\"]\n",
    " # Replace with your actual feature columns\n",
    "target_column = 'Churn'  # Replace with your actual target column\n",
    "X = df[feature_columns]\n",
    "y = df[target_column]\n",
    "\n",
    "# Split data\n",
    "X_train, X_test, y_train, y_test = train_test_split(X, y, test_size=0.2, random_state=42)\n",
    "\n",
    "# Create a Logistic Regression model\n",
    "model2= LogisticRegression(max_iter=1000)\n",
    "\n",
    "# Train the model\n",
    "model2.fit(X_train, y_train)\n",
    "\n",
    "# Make predictions\n",
    "y_pred = model2.predict(X_test)\n",
    "\n",
    "# Evaluate the model\n",
    "accuracy = accuracy_score(y_test, y_pred)\n",
    "print(\"Accuracy:\", accuracy)\n",
    "print(\"Classification Report:\")\n",
    "print(classification_report(y_test, y_pred))\n",
    "print(\"Confusion Matrix:\")\n",
    "print(confusion_matrix(y_test, y_pred))"
   ]
  },
  {
   "cell_type": "markdown",
   "metadata": {},
   "source": [
    "##### 3.🇱​🇴​🇬​🇮​🇸​🇹​🇮​🇨​ 🇷​🇪​🇬​🇷​🇪​🇸​🇸​🇮​🇴​🇳​(🇫​🇸​3)"
   ]
  },
  {
   "cell_type": "code",
   "execution_count": 21,
   "metadata": {},
   "outputs": [
    {
     "name": "stdout",
     "output_type": "stream",
     "text": [
      "Accuracy: 0.8176011355571328\n",
      "Classification Report:\n",
      "              precision    recall  f1-score   support\n",
      "\n",
      "           0       0.85      0.91      0.88      1036\n",
      "           1       0.69      0.57      0.62       373\n",
      "\n",
      "    accuracy                           0.82      1409\n",
      "   macro avg       0.77      0.74      0.75      1409\n",
      "weighted avg       0.81      0.82      0.81      1409\n",
      "\n",
      "Confusion Matrix:\n",
      "[[939  97]\n",
      " [160 213]]\n"
     ]
    }
   ],
   "source": [
    "\n",
    "# Prepare data\n",
    "feature_columns = features =[\"SeniorCitizen\", \"Partner\", \"Dependents\", \"tenure\", \"MultipleLines\",\"InternetService\", \n",
    "\"OnlineSecurity\", \"OnlineBackup\", \"DeviceProtection\", \"TechSupport\", \"StreamingTV\", \"StreamingMovies\",\"Contract\", \n",
    "\"PaperlessBilling\", \"PaymentMethod\", \"MonthlyCharges\", \"TotalCharges\"]\n",
    " # Replace with your actual feature columns\n",
    "target_column = 'Churn'  # Replace with your actual target column\n",
    "X = df[feature_columns]\n",
    "y = df[target_column]\n",
    "\n",
    "# Split data\n",
    "X_train, X_test, y_train, y_test = train_test_split(X, y, test_size=0.2, random_state=42)\n",
    "\n",
    "# Create a Logistic Regression model\n",
    "model3 = LogisticRegression(max_iter=1000)\n",
    "\n",
    "# Train the model\n",
    "model3.fit(X_train, y_train)\n",
    "\n",
    "# Make predictions\n",
    "y_pred = model3.predict(X_test)\n",
    "\n",
    "# Evaluate the model\n",
    "accuracy = accuracy_score(y_test, y_pred)\n",
    "print(\"Accuracy:\", accuracy)\n",
    "print(\"Classification Report:\")\n",
    "print(classification_report(y_test, y_pred))\n",
    "print(\"Confusion Matrix:\")\n",
    "print(confusion_matrix(y_test, y_pred))\n"
   ]
  },
  {
   "cell_type": "markdown",
   "metadata": {},
   "source": [
    "##### 𝟏.𝐃𝐞𝐜𝐢𝐬𝐢𝐨𝐧 𝐓𝐫𝐞𝐞𝐬(𝐅𝐒𝟏)"
   ]
  },
  {
   "cell_type": "code",
   "execution_count": 22,
   "metadata": {},
   "outputs": [
    {
     "name": "stdout",
     "output_type": "stream",
     "text": [
      "Accuracy: 0.7381121362668559\n",
      "Classification Report:\n",
      "              precision    recall  f1-score   support\n",
      "\n",
      "           0       0.82      0.82      0.82      1036\n",
      "           1       0.51      0.52      0.51       373\n",
      "\n",
      "    accuracy                           0.74      1409\n",
      "   macro avg       0.66      0.67      0.67      1409\n",
      "weighted avg       0.74      0.74      0.74      1409\n",
      "\n",
      "Confusion Matrix:\n",
      "[[847 189]\n",
      " [180 193]]\n"
     ]
    }
   ],
   "source": [
    "\n",
    "from sklearn.tree import DecisionTreeClassifier\n",
    "from sklearn.model_selection import train_test_split\n",
    "from sklearn.metrics import accuracy_score, classification_report, confusion_matrix\n",
    "\n",
    "X = df[[\"Contract\", \"tenure\", \"OnlineSecurity\", \"TechSupport\", \"InternetService\", \"PaymentMethod\", \"MonthlyCharges\", \n",
    "        \"TotalCharges\", \"DeviceProtection\", \"OnlineBackup\"]]\n",
    "y = df[\"Churn\"]\n",
    "\n",
    "# Split data into training and testing sets\n",
    "X_train, X_test, y_train, y_test = train_test_split(X, y, test_size=0.2, random_state=42)\n",
    "\n",
    "# Initialize and train a Decision Tree Classifier\n",
    "dt1 = DecisionTreeClassifier(random_state=42)\n",
    "dt1.fit(X_train, y_train)\n",
    "\n",
    "# Make predictions on the test set\n",
    "y_pred = dt1.predict(X_test)\n",
    "\n",
    "# Evaluate the model's performance\n",
    "accuracy = accuracy_score(y_test, y_pred)\n",
    "print(\"Accuracy:\", accuracy)\n",
    "print(\"Classification Report:\")\n",
    "print(classification_report(y_test, y_pred))\n",
    "print(\"Confusion Matrix:\")\n",
    "print(confusion_matrix(y_test, y_pred))"
   ]
  },
  {
   "cell_type": "markdown",
   "metadata": {},
   "source": [
    "##### 2.𝐃𝐞𝐜𝐢𝐬𝐢𝐨𝐧 𝐓𝐫𝐞𝐞𝐬(𝐅𝐒2)"
   ]
  },
  {
   "cell_type": "code",
   "execution_count": 23,
   "metadata": {},
   "outputs": [
    {
     "name": "stdout",
     "output_type": "stream",
     "text": [
      "Accuracy: 0.7210787792760823\n",
      "Classification Report:\n",
      "              precision    recall  f1-score   support\n",
      "\n",
      "           0       0.82      0.80      0.81      1036\n",
      "           1       0.47      0.50      0.49       373\n",
      "\n",
      "    accuracy                           0.72      1409\n",
      "   macro avg       0.65      0.65      0.65      1409\n",
      "weighted avg       0.73      0.72      0.72      1409\n",
      "\n",
      "Confusion Matrix:\n",
      "[[830 206]\n",
      " [187 186]]\n"
     ]
    }
   ],
   "source": [
    "\n",
    "from sklearn.tree import DecisionTreeClassifier\n",
    "from sklearn.model_selection import train_test_split\n",
    "from sklearn.metrics import accuracy_score, classification_report, confusion_matrix\n",
    "\n",
    "X = df[[\"Contract\", \"tenure\", \"TechSupport\", \"OnlineSecurity\", \"MonthlyCharges\", \"TotalCharges\", \"InternetService\", \"SeniorCitizen\", \n",
    "\"PaymentMethod\", \"PaperlessBilling\"]]\n",
    "y = df[\"Churn\"]\n",
    "\n",
    "# Split data into training and testing sets\n",
    "X_train, X_test, y_train, y_test = train_test_split(X, y, test_size=0.2, random_state=42)\n",
    "\n",
    "# Initialize and train a Decision Tree Classifier\n",
    "dt2 = DecisionTreeClassifier(random_state=42)\n",
    "dt2.fit(X_train, y_train)\n",
    "\n",
    "# Make predictions on the test set\n",
    "y_pred = dt2.predict(X_test)\n",
    "\n",
    "# Evaluate the model's performance\n",
    "accuracy = accuracy_score(y_test, y_pred)\n",
    "print(\"Accuracy:\", accuracy)\n",
    "print(\"Classification Report:\")\n",
    "print(classification_report(y_test, y_pred))\n",
    "print(\"Confusion Matrix:\")\n",
    "print(confusion_matrix(y_test, y_pred))\n"
   ]
  },
  {
   "cell_type": "markdown",
   "metadata": {},
   "source": [
    "##### 3.𝐃𝐞𝐜𝐢𝐬𝐢𝐨𝐧 𝐓𝐫𝐞𝐞𝐬(𝐅𝐒3)"
   ]
  },
  {
   "cell_type": "code",
   "execution_count": 24,
   "metadata": {},
   "outputs": [
    {
     "name": "stdout",
     "output_type": "stream",
     "text": [
      "Accuracy: 0.7295954577714692\n",
      "Classification Report:\n",
      "              precision    recall  f1-score   support\n",
      "\n",
      "           0       0.82      0.82      0.82      1036\n",
      "           1       0.49      0.49      0.49       373\n",
      "\n",
      "    accuracy                           0.73      1409\n",
      "   macro avg       0.65      0.65      0.65      1409\n",
      "weighted avg       0.73      0.73      0.73      1409\n",
      "\n",
      "Confusion Matrix:\n",
      "[[845 191]\n",
      " [190 183]]\n"
     ]
    }
   ],
   "source": [
    "\n",
    "from sklearn.tree import DecisionTreeClassifier\n",
    "from sklearn.model_selection import train_test_split\n",
    "from sklearn.metrics import accuracy_score, classification_report, confusion_matrix\n",
    "\n",
    "# Load your dataset\n",
    "df = df\n",
    "X = df[[\"SeniorCitizen\", \"Partner\", \"Dependents\", \"tenure\", \"MultipleLines\",\"InternetService\",\n",
    "        \"OnlineSecurity\", \"OnlineBackup\", \"DeviceProtection\", \"TechSupport\", \"StreamingTV\", \n",
    "        \"StreamingMovies\",\"Contract\", \"PaperlessBilling\", \"PaymentMethod\", \"MonthlyCharges\", \n",
    "        \"TotalCharges\"]]\n",
    "\n",
    "y =df[\"Churn\"]\n",
    "\n",
    "\n",
    "# Split data into training and testing sets\n",
    "X_train, X_test, y_train, y_test = train_test_split(X, y, test_size=0.2, random_state=42)\n",
    "\n",
    "# Initialize and train a Decision Tree Classifier\n",
    "dt3 = DecisionTreeClassifier(random_state=42)\n",
    "dt3.fit(X_train, y_train)\n",
    "\n",
    "# Make predictions on the test set\n",
    "y_pred = dt3.predict(X_test)\n",
    "\n",
    "# Evaluate the model's performance\n",
    "accuracy = accuracy_score(y_test, y_pred)\n",
    "print(\"Accuracy:\", accuracy)\n",
    "print(\"Classification Report:\")\n",
    "print(classification_report(y_test, y_pred))\n",
    "print(\"Confusion Matrix:\")\n",
    "print(confusion_matrix(y_test, y_pred))"
   ]
  },
  {
   "cell_type": "markdown",
   "metadata": {},
   "source": [
    "##### 𝟏.𝐑𝐚𝐧𝐝𝐨𝐦 𝐅𝐨𝐫𝐞𝐬𝐭(𝐅𝐒𝟏)"
   ]
  },
  {
   "cell_type": "code",
   "execution_count": 25,
   "metadata": {},
   "outputs": [
    {
     "name": "stdout",
     "output_type": "stream",
     "text": [
      "Accuracy: 0.7955997161107168\n",
      "Classification Report:\n",
      "              precision    recall  f1-score   support\n",
      "\n",
      "           0       0.83      0.90      0.87      1036\n",
      "           1       0.65      0.49      0.56       373\n",
      "\n",
      "    accuracy                           0.80      1409\n",
      "   macro avg       0.74      0.70      0.71      1409\n",
      "weighted avg       0.78      0.80      0.79      1409\n",
      "\n",
      "Confusion Matrix:\n",
      "[[937  99]\n",
      " [189 184]]\n"
     ]
    }
   ],
   "source": [
    "from sklearn.ensemble import RandomForestClassifier\n",
    "from sklearn.model_selection import train_test_split\n",
    "from sklearn.metrics import accuracy_score, classification_report, confusion_matrix\n",
    "\n",
    "X = df[[\"Contract\", \"tenure\", \"OnlineSecurity\", \"TechSupport\", \"InternetService\", \"PaymentMethod\", \"MonthlyCharges\", \n",
    "        \"TotalCharges\", \"DeviceProtection\", \"OnlineBackup\"]]\n",
    "y = df[\"Churn\"]\n",
    "\n",
    "# Split data into training and testing sets\n",
    "X_train, X_test, y_train, y_test = train_test_split(X, y, test_size=0.2, random_state=42)\n",
    "\n",
    "# Initialize and train a Random Forest Classifier\n",
    "rf1 = RandomForestClassifier(n_estimators=100, random_state=42)\n",
    "rf1.fit(X_train, y_train)\n",
    "\n",
    "# Make predictions on the test set\n",
    "y_pred = rf1.predict(X_test)\n",
    "\n",
    "# Evaluate the model's performance\n",
    "accuracy = accuracy_score(y_test, y_pred)\n",
    "print(\"Accuracy:\", accuracy)\n",
    "print(\"Classification Report:\")\n",
    "print(classification_report(y_test, y_pred))\n",
    "print(\"Confusion Matrix:\")\n",
    "print(confusion_matrix(y_test, y_pred))"
   ]
  },
  {
   "cell_type": "markdown",
   "metadata": {},
   "source": [
    "##### 2.𝐑𝐚𝐧𝐝𝐨𝐦 𝐅𝐨𝐫𝐞𝐬𝐭(𝐅𝐒2)"
   ]
  },
  {
   "cell_type": "code",
   "execution_count": 26,
   "metadata": {},
   "outputs": [
    {
     "name": "stdout",
     "output_type": "stream",
     "text": [
      "Accuracy: 0.7863733144073811\n",
      "Classification Report:\n",
      "              precision    recall  f1-score   support\n",
      "\n",
      "           0       0.83      0.90      0.86      1036\n",
      "           1       0.63      0.48      0.54       373\n",
      "\n",
      "    accuracy                           0.79      1409\n",
      "   macro avg       0.73      0.69      0.70      1409\n",
      "weighted avg       0.77      0.79      0.78      1409\n",
      "\n",
      "Confusion Matrix:\n",
      "[[929 107]\n",
      " [194 179]]\n"
     ]
    }
   ],
   "source": [
    "\n",
    "from sklearn.ensemble import RandomForestClassifier\n",
    "from sklearn.model_selection import train_test_split\n",
    "from sklearn.metrics import accuracy_score, classification_report, confusion_matrix\n",
    "\n",
    "X = df[[\"Contract\", \"tenure\", \"TechSupport\", \"OnlineSecurity\", \"MonthlyCharges\", \"TotalCharges\", \"InternetService\", \"SeniorCitizen\", \n",
    "        \"PaymentMethod\", \"PaperlessBilling\"]]\n",
    "y = df[\"Churn\"]\n",
    "\n",
    "# Split data into training and testing sets\n",
    "X_train, X_test, y_train, y_test = train_test_split(X, y, test_size=0.2, random_state=42)\n",
    "\n",
    "# Initialize and train a Random Forest Classifier\n",
    "rf2 = RandomForestClassifier(n_estimators=100, random_state=42)\n",
    "rf2.fit(X_train, y_train)\n",
    "\n",
    "# Make predictions on the test set\n",
    "y_pred = rf2.predict(X_test)\n",
    "\n",
    "# Evaluate the model's performance\n",
    "accuracy = accuracy_score(y_test, y_pred)\n",
    "print(\"Accuracy:\", accuracy)\n",
    "print(\"Classification Report:\")\n",
    "print(classification_report(y_test, y_pred))\n",
    "print(\"Confusion Matrix:\")\n",
    "print(confusion_matrix(y_test, y_pred))"
   ]
  },
  {
   "cell_type": "markdown",
   "metadata": {},
   "source": [
    "##### 3.𝐑𝐚𝐧𝐝𝐨𝐦 𝐅𝐨𝐫𝐞𝐬𝐭(𝐅𝐒3)"
   ]
  },
  {
   "cell_type": "code",
   "execution_count": 27,
   "metadata": {},
   "outputs": [
    {
     "name": "stdout",
     "output_type": "stream",
     "text": [
      "Accuracy: 0.7906316536550745\n",
      "Classification Report:\n",
      "              precision    recall  f1-score   support\n",
      "\n",
      "           0       0.82      0.91      0.86      1036\n",
      "           1       0.65      0.46      0.54       373\n",
      "\n",
      "    accuracy                           0.79      1409\n",
      "   macro avg       0.74      0.68      0.70      1409\n",
      "weighted avg       0.78      0.79      0.78      1409\n",
      "\n",
      "Confusion Matrix:\n",
      "[[943  93]\n",
      " [202 171]]\n"
     ]
    }
   ],
   "source": [
    "from sklearn.ensemble import RandomForestClassifier\n",
    "from sklearn.model_selection import train_test_split\n",
    "from sklearn.metrics import accuracy_score, classification_report, confusion_matrix\n",
    "\n",
    "# Load your dataset\n",
    "df = df\n",
    "\n",
    "X = df[[\"SeniorCitizen\", \"Partner\", \"Dependents\", \"tenure\", \"MultipleLines\",\"InternetService\", \n",
    "        \"OnlineSecurity\", \"OnlineBackup\", \"DeviceProtection\", \"TechSupport\", \"StreamingTV\", \n",
    "        \"StreamingMovies\",\"Contract\", \"PaperlessBilling\", \"PaymentMethod\", \"MonthlyCharges\", \n",
    "        \"TotalCharges\"]]\n",
    "\n",
    "y = df[\"Churn\"]\n",
    "\n",
    "# Split data into training and testing sets\n",
    "X_train, X_test, y_train, y_test = train_test_split(X, y, test_size=0.2, random_state=42)\n",
    "\n",
    "# Initialize and train a Random Forest Classifier\n",
    "rf3 = RandomForestClassifier(n_estimators=100, random_state=42)\n",
    "rf3.fit(X_train, y_train)\n",
    "\n",
    "# Make predictions on the test set\n",
    "y_pred = rf3.predict(X_test)\n",
    "\n",
    "# Evaluate the model's performance\n",
    "accuracy = accuracy_score(y_test, y_pred)\n",
    "print(\"Accuracy:\", accuracy)\n",
    "print(\"Classification Report:\")\n",
    "print(classification_report(y_test, y_pred))\n",
    "print(\"Confusion Matrix:\")\n",
    "print(confusion_matrix(y_test, y_pred))"
   ]
  },
  {
   "cell_type": "markdown",
   "metadata": {},
   "source": [
    "##### 1.Support Vector Machine(FS1)"
   ]
  },
  {
   "cell_type": "code",
   "execution_count": 28,
   "metadata": {},
   "outputs": [
    {
     "name": "stdout",
     "output_type": "stream",
     "text": [
      "Accuracy: 0.8062455642299503\n",
      "Classification Report:\n",
      "              precision    recall  f1-score   support\n",
      "\n",
      "           0       0.84      0.91      0.87      1036\n",
      "           1       0.67      0.52      0.59       373\n",
      "\n",
      "    accuracy                           0.81      1409\n",
      "   macro avg       0.76      0.71      0.73      1409\n",
      "weighted avg       0.80      0.81      0.80      1409\n",
      "\n",
      "Confusion Matrix:\n",
      "[[943  93]\n",
      " [180 193]]\n"
     ]
    }
   ],
   "source": [
    "from sklearn.svm import SVC\n",
    "from sklearn.model_selection import train_test_split\n",
    "from sklearn.metrics import accuracy_score, classification_report, confusion_matrix\n",
    "\n",
    "X = df[[\"Contract\", \"tenure\", \"OnlineSecurity\", \"TechSupport\", \"InternetService\", \"PaymentMethod\", \"MonthlyCharges\", \"TotalCharges\", \"DeviceProtection\", \"OnlineBackup\"]]\n",
    "y = df[\"Churn\"]\n",
    "\n",
    "# Split data into training and testing sets\n",
    "X_train, X_test, y_train, y_test = train_test_split(X, y, test_size=0.2, random_state=42)\n",
    "\n",
    "# Initialize and train a SVM Classifier\n",
    "svm1 = SVC(random_state=42)\n",
    "svm1.fit(X_train, y_train)\n",
    "\n",
    "# Make predictions on the test set\n",
    "y_pred = svm1.predict(X_test)\n",
    "\n",
    "# Evaluate the model's performance\n",
    "accuracy = accuracy_score(y_test, y_pred)\n",
    "print(\"Accuracy:\", accuracy)\n",
    "print(\"Classification Report:\")\n",
    "print(classification_report(y_test, y_pred))\n",
    "print(\"Confusion Matrix:\")\n",
    "print(confusion_matrix(y_test, y_pred))"
   ]
  },
  {
   "cell_type": "markdown",
   "metadata": {},
   "source": [
    "##### 2.Support Vector Machine(FS2)"
   ]
  },
  {
   "cell_type": "code",
   "execution_count": 29,
   "metadata": {},
   "outputs": [
    {
     "name": "stdout",
     "output_type": "stream",
     "text": [
      "Accuracy: 0.8126330731014905\n",
      "Classification Report:\n",
      "              precision    recall  f1-score   support\n",
      "\n",
      "           0       0.83      0.93      0.88      1036\n",
      "           1       0.72      0.49      0.58       373\n",
      "\n",
      "    accuracy                           0.81      1409\n",
      "   macro avg       0.77      0.71      0.73      1409\n",
      "weighted avg       0.80      0.81      0.80      1409\n",
      "\n",
      "Confusion Matrix:\n",
      "[[964  72]\n",
      " [192 181]]\n"
     ]
    }
   ],
   "source": [
    "\n",
    "from sklearn.svm import SVC\n",
    "from sklearn.model_selection import train_test_split\n",
    "from sklearn.metrics import accuracy_score, classification_report, confusion_matrix\n",
    "\n",
    "X = df[[\"Contract\", \"tenure\", \"TechSupport\", \"OnlineSecurity\", \"MonthlyCharges\", \"TotalCharges\", \"InternetService\", \"SeniorCitizen\", \"PaymentMethod\", \"PaperlessBilling\"]]\n",
    "y = df[\"Churn\"]\n",
    "\n",
    "# Split data into training and testing sets\n",
    "X_train, X_test, y_train, y_test = train_test_split(X, y, test_size=0.2, random_state=42)\n",
    "\n",
    "# Initialize and train a SVM Classifier\n",
    "svm2 = SVC(random_state=42)\n",
    "svm2.fit(X_train, y_train)\n",
    "\n",
    "# Make predictions on the test set\n",
    "y_pred = svm2.predict(X_test)\n",
    "\n",
    "# Evaluate the model's performance\n",
    "accuracy = accuracy_score(y_test, y_pred)\n",
    "print(\"Accuracy:\", accuracy)\n",
    "print(\"Classification Report:\")\n",
    "print(classification_report(y_test, y_pred))\n",
    "print(\"Confusion Matrix:\")\n",
    "print(confusion_matrix(y_test, y_pred))\n"
   ]
  },
  {
   "cell_type": "markdown",
   "metadata": {},
   "source": [
    "##### 3.Support Vector Machine(FS3)\n"
   ]
  },
  {
   "cell_type": "code",
   "execution_count": 30,
   "metadata": {},
   "outputs": [
    {
     "name": "stdout",
     "output_type": "stream",
     "text": [
      "Accuracy: 0.8126330731014905\n",
      "Classification Report:\n",
      "              precision    recall  f1-score   support\n",
      "\n",
      "           0       0.84      0.93      0.88      1036\n",
      "           1       0.71      0.49      0.58       373\n",
      "\n",
      "    accuracy                           0.81      1409\n",
      "   macro avg       0.77      0.71      0.73      1409\n",
      "weighted avg       0.80      0.81      0.80      1409\n",
      "\n",
      "Confusion Matrix:\n",
      "[[961  75]\n",
      " [189 184]]\n"
     ]
    }
   ],
   "source": [
    "\n",
    "from sklearn.svm import SVC\n",
    "from sklearn.model_selection import train_test_split\n",
    "from sklearn.metrics import accuracy_score, classification_report, confusion_matrix\n",
    "\n",
    "# Load your dataset\n",
    "df = df\n",
    "\n",
    "X = df[[\"SeniorCitizen\", \"Partner\", \"Dependents\", \"tenure\", \"MultipleLines\",\"InternetService\", \n",
    "        \"OnlineSecurity\", \"OnlineBackup\", \"DeviceProtection\", \"TechSupport\", \"StreamingTV\", \n",
    "        \"StreamingMovies\",\"Contract\", \"PaperlessBilling\", \"PaymentMethod\", \"MonthlyCharges\", \n",
    "        \"TotalCharges\"]]\n",
    "\n",
    "y = df[\"Churn\"]\n",
    "\n",
    "# Split data into training and testing sets\n",
    "X_train, X_test, y_train, y_test = train_test_split(X, y, test_size=0.2, random_state=42)\n",
    "\n",
    "# Initialize and train a SVM Classifier\n",
    "svm3 = SVC(random_state=42)\n",
    "svm3.fit(X_train, y_train)\n",
    "\n",
    "# Make predictions on the test set\n",
    "y_pred = svm3.predict(X_test)\n",
    "\n",
    "# Evaluate the model's performance\n",
    "accuracy = accuracy_score(y_test, y_pred)\n",
    "print(\"Accuracy:\", accuracy)\n",
    "print(\"Classification Report:\")\n",
    "print(classification_report(y_test, y_pred))\n",
    "print(\"Confusion Matrix:\")\n",
    "print(confusion_matrix(y_test, y_pred))\n",
    "\n",
    "\n"
   ]
  },
  {
   "cell_type": "markdown",
   "metadata": {},
   "source": [
    "##### 𝟏.𝐗𝐆 𝐁𝐨𝐨𝐬𝐭𝐢𝐧𝐠(𝐅𝐒𝟏)"
   ]
  },
  {
   "cell_type": "code",
   "execution_count": 31,
   "metadata": {},
   "outputs": [
    {
     "name": "stdout",
     "output_type": "stream",
     "text": [
      "Accuracy: 0.7984386089425124\n",
      "Classification Report:\n",
      "              precision    recall  f1-score   support\n",
      "\n",
      "           0       0.84      0.89      0.87      1036\n",
      "           1       0.64      0.55      0.59       373\n",
      "\n",
      "    accuracy                           0.80      1409\n",
      "   macro avg       0.74      0.72      0.73      1409\n",
      "weighted avg       0.79      0.80      0.79      1409\n",
      "\n",
      "Confusion Matrix:\n",
      "[[921 115]\n",
      " [169 204]]\n"
     ]
    }
   ],
   "source": [
    "import xgboost as xgb\n",
    "from sklearn.model_selection import train_test_split\n",
    "from sklearn.metrics import accuracy_score, classification_report, confusion_matrix\n",
    "\n",
    "X = df[[\"Contract\", \"tenure\", \"OnlineSecurity\", \"TechSupport\", \"InternetService\", \"PaymentMethod\", \"MonthlyCharges\", \"TotalCharges\", \"DeviceProtection\", \"OnlineBackup\"]]\n",
    "y = df[\"Churn\"]\n",
    "\n",
    "# Split data into training and testing sets\n",
    "X_train, X_test, y_train, y_test = train_test_split(X, y, test_size=0.2, random_state=42)\n",
    "\n",
    "# Initialize and train an XGBoost Classifier\n",
    "xg1 = xgb.XGBClassifier(random_state=42)\n",
    "xg1.fit(X_train, y_train)\n",
    "\n",
    "# Make predictions on the test set\n",
    "y_pred = xg1.predict(X_test)\n",
    "\n",
    "# Evaluate the model's performance\n",
    "accuracy = accuracy_score(y_test, y_pred)\n",
    "print(\"Accuracy:\", accuracy)\n",
    "print(\"Classification Report:\")\n",
    "print(classification_report(y_test, y_pred))\n",
    "print(\"Confusion Matrix:\")\n",
    "print(confusion_matrix(y_test, y_pred))"
   ]
  },
  {
   "cell_type": "markdown",
   "metadata": {},
   "source": [
    "##### 2.𝐗𝐆 𝐁𝐨𝐨𝐬𝐭𝐢𝐧𝐠(𝐅𝐒2)"
   ]
  },
  {
   "cell_type": "code",
   "execution_count": 32,
   "metadata": {},
   "outputs": [
    {
     "name": "stdout",
     "output_type": "stream",
     "text": [
      "Confusion Matrix:\n",
      " [[931 105]\n",
      " [175 198]]\n",
      "Confusion Matrix:\n",
      " [[919 114]\n",
      " [156 220]]\n",
      "Confusion Matrix:\n",
      " [[897 124]\n",
      " [196 192]]\n",
      "Confusion Matrix:\n",
      " [[899 133]\n",
      " [186 190]]\n",
      "Confusion Matrix:\n",
      " [[934 118]\n",
      " [190 166]]\n",
      "Average Accuracy: 0.7874456618168914\n",
      "Classification Report for Fold 1:\n",
      "              precision    recall  f1-score   support\n",
      "\n",
      "           0       0.84      0.90      0.87      1036\n",
      "           1       0.65      0.53      0.59       373\n",
      "\n",
      "    accuracy                           0.80      1409\n",
      "   macro avg       0.75      0.71      0.73      1409\n",
      "weighted avg       0.79      0.80      0.79      1409\n",
      "\n",
      "Classification Report for Fold 2:\n",
      "              precision    recall  f1-score   support\n",
      "\n",
      "           0       0.85      0.89      0.87      1033\n",
      "           1       0.66      0.59      0.62       376\n",
      "\n",
      "    accuracy                           0.81      1409\n",
      "   macro avg       0.76      0.74      0.75      1409\n",
      "weighted avg       0.80      0.81      0.80      1409\n",
      "\n",
      "Classification Report for Fold 3:\n",
      "              precision    recall  f1-score   support\n",
      "\n",
      "           0       0.82      0.88      0.85      1021\n",
      "           1       0.61      0.49      0.55       388\n",
      "\n",
      "    accuracy                           0.77      1409\n",
      "   macro avg       0.71      0.69      0.70      1409\n",
      "weighted avg       0.76      0.77      0.77      1409\n",
      "\n",
      "Classification Report for Fold 4:\n",
      "              precision    recall  f1-score   support\n",
      "\n",
      "           0       0.83      0.87      0.85      1032\n",
      "           1       0.59      0.51      0.54       376\n",
      "\n",
      "    accuracy                           0.77      1408\n",
      "   macro avg       0.71      0.69      0.70      1408\n",
      "weighted avg       0.76      0.77      0.77      1408\n",
      "\n",
      "Classification Report for Fold 5:\n",
      "              precision    recall  f1-score   support\n",
      "\n",
      "           0       0.83      0.89      0.86      1052\n",
      "           1       0.58      0.47      0.52       356\n",
      "\n",
      "    accuracy                           0.78      1408\n",
      "   macro avg       0.71      0.68      0.69      1408\n",
      "weighted avg       0.77      0.78      0.77      1408\n",
      "\n"
     ]
    }
   ],
   "source": [
    "\n",
    "\n",
    "import xgboost as xgb\n",
    "from sklearn.model_selection import KFold\n",
    "from sklearn.metrics import accuracy_score, classification_report, confusion_matrix\n",
    "\n",
    "X = df[[\"Contract\", \"tenure\", \"TechSupport\", \"OnlineSecurity\", \"MonthlyCharges\", \"TotalCharges\", \"InternetService\", \"SeniorCitizen\", \"PaymentMethod\", \"PaperlessBilling\"]]\n",
    "y = df[\"Churn\"]\n",
    "\n",
    "# Initialize KFold with 5 folds\n",
    "kf = KFold(n_splits=5, shuffle=True, random_state=42)\n",
    "\n",
    "# Initialize lists to store accuracy and classification reports for each fold\n",
    "accuracies = []\n",
    "reports = []\n",
    "\n",
    "# Train and evaluate the model on each fold\n",
    "for train_index, test_index in kf.split(X):\n",
    "    X_train, X_test = X.iloc[train_index], X.iloc[test_index]\n",
    "    y_train, y_test = y.iloc[train_index], y.iloc[test_index]\n",
    "    \n",
    "    # Initialize and train an XGBoost Classifier\n",
    "    xg2 = xgb.XGBClassifier(random_state=42)\n",
    "    xg2.fit(X_train, y_train)\n",
    "    \n",
    "    # Make predictions on the test set\n",
    "    y_pred = xg2.predict(X_test)\n",
    "    \n",
    "    # Evaluate the model's performance\n",
    "    accuracy = accuracy_score(y_test, y_pred)\n",
    "    report = classification_report(y_test, y_pred)\n",
    "    confusion = confusion_matrix(y_test, y_pred)\n",
    "    \n",
    "    # Append accuracy and report to lists\n",
    "    accuracies.append(accuracy)\n",
    "    reports.append(report)\n",
    "    print(\"Confusion Matrix:\\n\", confusion)\n",
    "\n",
    "# Print average accuracy across all folds\n",
    "print(\"Average Accuracy:\", sum(accuracies) / len(accuracies))\n",
    "\n",
    "# Print classification reports for each fold\n",
    "for i, report in enumerate(reports):\n",
    "    print(f\"Classification Report for Fold {i+1}:\\n{report}\")\n"
   ]
  },
  {
   "cell_type": "markdown",
   "metadata": {},
   "source": [
    "##### 3.𝐗𝐆 𝐁𝐨𝐨𝐬𝐭𝐢𝐧𝐠(𝐅𝐒3)"
   ]
  },
  {
   "cell_type": "code",
   "execution_count": 33,
   "metadata": {},
   "outputs": [
    {
     "name": "stdout",
     "output_type": "stream",
     "text": [
      "Confusion Matrix:\n",
      " [[931 105]\n",
      " [190 183]]\n",
      "Confusion Matrix:\n",
      " [[909 124]\n",
      " [158 218]]\n",
      "Confusion Matrix:\n",
      " [[891 130]\n",
      " [190 198]]\n",
      "Confusion Matrix:\n",
      " [[919 113]\n",
      " [179 197]]\n",
      "Confusion Matrix:\n",
      " [[923 129]\n",
      " [174 182]]\n",
      "Average Accuracy: 0.7881586110394219\n",
      "Classification Report for Fold 1:\n",
      "              precision    recall  f1-score   support\n",
      "\n",
      "           0       0.83      0.90      0.86      1036\n",
      "           1       0.64      0.49      0.55       373\n",
      "\n",
      "    accuracy                           0.79      1409\n",
      "   macro avg       0.73      0.69      0.71      1409\n",
      "weighted avg       0.78      0.79      0.78      1409\n",
      "\n",
      "Classification Report for Fold 2:\n",
      "              precision    recall  f1-score   support\n",
      "\n",
      "           0       0.85      0.88      0.87      1033\n",
      "           1       0.64      0.58      0.61       376\n",
      "\n",
      "    accuracy                           0.80      1409\n",
      "   macro avg       0.74      0.73      0.74      1409\n",
      "weighted avg       0.79      0.80      0.80      1409\n",
      "\n",
      "Classification Report for Fold 3:\n",
      "              precision    recall  f1-score   support\n",
      "\n",
      "           0       0.82      0.87      0.85      1021\n",
      "           1       0.60      0.51      0.55       388\n",
      "\n",
      "    accuracy                           0.77      1409\n",
      "   macro avg       0.71      0.69      0.70      1409\n",
      "weighted avg       0.76      0.77      0.77      1409\n",
      "\n",
      "Classification Report for Fold 4:\n",
      "              precision    recall  f1-score   support\n",
      "\n",
      "           0       0.84      0.89      0.86      1032\n",
      "           1       0.64      0.52      0.57       376\n",
      "\n",
      "    accuracy                           0.79      1408\n",
      "   macro avg       0.74      0.71      0.72      1408\n",
      "weighted avg       0.78      0.79      0.79      1408\n",
      "\n",
      "Classification Report for Fold 5:\n",
      "              precision    recall  f1-score   support\n",
      "\n",
      "           0       0.84      0.88      0.86      1052\n",
      "           1       0.59      0.51      0.55       356\n",
      "\n",
      "    accuracy                           0.78      1408\n",
      "   macro avg       0.71      0.69      0.70      1408\n",
      "weighted avg       0.78      0.78      0.78      1408\n",
      "\n"
     ]
    }
   ],
   "source": [
    "\n",
    "import xgboost as xgb\n",
    "from sklearn.model_selection import KFold\n",
    "from sklearn.metrics import accuracy_score, classification_report, confusion_matrix\n",
    "\n",
    "# Load your dataset\n",
    "df = df\n",
    "\n",
    "X = df[[\"SeniorCitizen\", \"Partner\", \"Dependents\", \"tenure\", \"MultipleLines\",\"InternetService\", \n",
    "        \"OnlineSecurity\", \"OnlineBackup\", \"DeviceProtection\", \"TechSupport\", \"StreamingTV\", \n",
    "        \"StreamingMovies\",\"Contract\", \"PaperlessBilling\", \"PaymentMethod\", \"MonthlyCharges\", \n",
    "        \"TotalCharges\"]]\n",
    "\n",
    "y = df[\"Churn\"]\n",
    "\n",
    "# Initialize KFold with 5 folds\n",
    "kf = KFold(n_splits=5, shuffle=True, random_state=42)\n",
    "\n",
    "# Initialize lists to store accuracy and classification reports for each fold\n",
    "accuracies = []\n",
    "reports = []\n",
    "\n",
    "# Train and evaluate the model on each fold\n",
    "for train_index, test_index in kf.split(X):\n",
    "    X_train, X_test = X.iloc[train_index], X.iloc[test_index]\n",
    "    y_train, y_test = y.iloc[train_index], y.iloc[test_index]\n",
    "    \n",
    "    # Initialize and train an XGBoost Classifier\n",
    "    xg3 = xgb.XGBClassifier(random_state=42)\n",
    "    xg3.fit(X_train, y_train)\n",
    "    \n",
    "    # Make predictions on the test set\n",
    "    y_pred = xg3.predict(X_test)\n",
    "    \n",
    "    # Evaluate the model's performance\n",
    "    accuracy = accuracy_score(y_test, y_pred)\n",
    "    report = classification_report(y_test, y_pred)\n",
    "    confusion = confusion_matrix(y_test, y_pred)\n",
    "    \n",
    "    # Append accuracy and report to lists\n",
    "    accuracies.append(accuracy)\n",
    "    reports.append(report)\n",
    "    print(\"Confusion Matrix:\\n\", confusion)\n",
    "\n",
    "# Print average accuracy across all folds\n",
    "print(\"Average Accuracy:\", sum(accuracies) / len(accuracies))\n",
    "\n",
    "# Print classification reports for each fold\n",
    "for i, report in enumerate(reports):\n",
    "    print(f\"Classification Report for Fold {i+1}:\\n{report}\")"
   ]
  },
  {
   "cell_type": "markdown",
   "metadata": {},
   "source": [
    "#### Deployment"
   ]
  },
  {
   "cell_type": "markdown",
   "metadata": {},
   "source": [
    "##### 1. 🇲​🇴​🇩​🇪​🇱​ 🇸​🇦​🇻​🇮​🇳​🇬​ 🇮​🇳​🇹​🇴​ 🇯​🇴​🇧​🇱​🇮​🇧​"
   ]
  },
  {
   "cell_type": "code",
   "execution_count": 34,
   "metadata": {},
   "outputs": [
    {
     "data": {
      "text/plain": [
       "['customer_churn_model.pkl']"
      ]
     },
     "execution_count": 34,
     "metadata": {},
     "output_type": "execute_result"
    }
   ],
   "source": [
    "import pandas as pd\n",
    "from sklearn.model_selection import train_test_split\n",
    "from sklearn.linear_model import LogisticRegression\n",
    "import joblib\n",
    "# Split data into features and target\n",
    "X = df.drop('Churn', axis=1)\n",
    "y = df['Churn']\n",
    "\n",
    "# Train-test split\n",
    "X_train, X_test, y_train, y_test = train_test_split(X, y, test_size=0.2, random_state=42)\n",
    "\n",
    "# Train a Logistic Regression model\n",
    "model3 = LogisticRegression()\n",
    "model3.fit(X_train, y_train)\n",
    "\n",
    "# Save the model\n",
    "joblib.dump(model3, 'customer_churn_model.pkl')"
   ]
  },
  {
   "cell_type": "markdown",
   "metadata": {},
   "source": [
    "##### 2. 🇲​🇴​🇩​🇪​🇱​ 🇩​🇪​🇵​🇱​🇴​🇾​ 🇮​🇳​ 🇸​🇹​🇷​🇪​🇦​🇲​🇱​🇮​🇹​"
   ]
  },
  {
   "cell_type": "code",
   "execution_count": 35,
   "metadata": {},
   "outputs": [
    {
     "name": "stderr",
     "output_type": "stream",
     "text": [
      "2024-08-03 19:35:17.074 \n",
      "  \u001b[33m\u001b[1mWarning:\u001b[0m to view this Streamlit app on a browser, run it with the following\n",
      "  command:\n",
      "\n",
      "    streamlit run C:\\Users\\Jaya T\\AppData\\Roaming\\Python\\Python312\\site-packages\\ipykernel_launcher.py [ARGUMENTS]\n",
      "2024-08-03 19:35:17.076 Session state does not function when running a script without `streamlit run`\n"
     ]
    }
   ],
   "source": [
    "import streamlit as st\n",
    "import pandas as pd\n",
    "from sklearn.preprocessing import LabelEncoder\n",
    "import joblib\n",
    "\n",
    "# Load the trained model\n",
    "model = joblib.load('customer_churn_model.pkl')\n",
    "\n",
    "# Define the app title\n",
    "def app_title():\n",
    "    st.title(\"Customer Churn Prediction\")\n",
    "\n",
    "# Define the user input features\n",
    "def user_input_features():\n",
    "    # Get user input\n",
    "    SeniorCitizen = st.selectbox('SeniorCitizen', ('Yes', 'No'))\n",
    "    Partner = st.selectbox('Partner', ('Yes', 'No'))\n",
    "    Dependents = st.selectbox('Dependents', ('Yes', 'No'))\n",
    "    tenure = st.number_input('Tenure (in months)', min_value=0, value=0)\n",
    "    MultipleLines = st.selectbox('MultipleLines', ('Yes', 'No', 'No phone service'))\n",
    "    InternetService = st.selectbox('InternetService', ('DSL', 'Fiber optic', 'No'))\n",
    "    OnlineSecurity = st.selectbox('OnlineSecurity', ('Yes', 'No', 'No internet service'))\n",
    "    OnlineBackup = st.selectbox('OnlineBackup', ('Yes', 'No', 'No internet service'))\n",
    "    DeviceProtection = st.selectbox('DeviceProtection', ('Yes', 'No', 'No internet service'))\n",
    "    TechSupport = st.selectbox('TechSupport', ('Yes', 'No', 'No internet service'))\n",
    "    StreamingTV = st.selectbox('StreamingTV', ('Yes', 'No', 'No internet service'))\n",
    "    StreamingMovies = st.selectbox('StreamingMovies', ('Yes', 'No', 'No internet service'))\n",
    "    Contract = st.selectbox('Contract', ('One year', 'Two year', 'Month-to-month'))\n",
    "    PaperlessBilling = st.selectbox('PaperlessBilling', ('Yes', 'No'))\n",
    "    PaymentMethod = st.selectbox('PaymentMethod', ('Electronic check', 'Mailed check', 'Bank transfer (automatic)', 'Credit card (automatic)'))\n",
    "    MonthlyCharges = st.number_input('MonthlyCharges', min_value=0.0, value=0.0)\n",
    "    TotalCharges = st.number_input('TotalCharges', min_value=0.0, value=0.0)\n",
    "\n",
    "    # Create a dictionary to store the user input\n",
    "    user_input = {\n",
    "        \"SeniorCitizen\": 1 if SeniorCitizen == 'Yes' else 0,\n",
    "        \"Partner\": 1 if Partner == 'Yes' else 0,\n",
    "        \"Dependents\": 1 if Dependents == 'Yes' else 0,\n",
    "        \"tenure\": tenure,\n",
    "        \"MultipleLines\": 2 if MultipleLines == 'Yes' else 0 if MultipleLines == 'No' else 1,\n",
    "        \"InternetService\": 2 if InternetService == 'Fiber optic' else 1 if InternetService == 'DSL' else 0,\n",
    "        \"OnlineSecurity\": 2 if OnlineSecurity == 'Yes' else 0 if OnlineSecurity == 'No' else 1,\n",
    "        \"OnlineBackup\": 2 if OnlineBackup == 'Yes' else 0 if OnlineBackup == 'No' else 1,\n",
    "        \"DeviceProtection\": 2 if DeviceProtection == 'Yes' else 0 if DeviceProtection == 'No' else 1,\n",
    "        \"TechSupport\": 2 if TechSupport == 'Yes' else 0 if TechSupport == 'No' else 1,\n",
    "        \"StreamingTV\": 2 if StreamingTV == 'Yes' else 0 if StreamingTV == 'No' else 1,\n",
    "        \"StreamingMovies\": 2 if StreamingMovies == 'Yes' else 0 if StreamingMovies == 'No' else 1,\n",
    "        \"Contract\": 1 if Contract == 'One year' else 2 if Contract == 'Two year' else 0,\n",
    "        \"PaperlessBilling\": 1 if PaperlessBilling == 'Yes' else 0,\n",
    "        \"PaymentMethod\": 1 if PaymentMethod == 'Credit card (automatic)' else 2 if PaymentMethod == 'Electronic check' else 3 if PaymentMethod == 'Mailed check' else 0,\n",
    "        \"MonthlyCharges\": MonthlyCharges,\n",
    "        \"TotalCharges\": TotalCharges\n",
    "    }\n",
    "    features = pd.DataFrame(data, index=[0])\n",
    "\n",
    "    # Encode categorical features\n",
    "    label_encoder = LabelEncoder()\n",
    "    for column in features.columns:\n",
    "        if features[column].dtype == 'object':\n",
    "            features[column] = label_encoder.fit_transform(features[column])\n",
    "\n",
    "    return features\n",
    "    \n",
    "\n",
    "# Define the predict churn function\n",
    "def predict_churn(model, features):\n",
    "    prediction = model.predict(features)\n",
    "    return prediction[0]\n",
    "\n",
    "# Define the display prediction function\n",
    "def display_prediction(prediction):\n",
    "    if prediction == 1:\n",
    "        st.success('This customer is likely to churn.')\n",
    "    else:\n",
    "        st.success('This customer is likely to stay.')\n",
    "\n",
    "def main():\n",
    "    app_title()\n",
    "    st.subheader(\"Enter Customer Information\")\n",
    "    user_features = user_input_features()\n",
    "    if st.button(\"Predict\"):\n",
    "        prediction = predict_churn(model, user_features)\n",
    "        display_prediction(prediction)\n",
    "\n",
    "main()"
   ]
  },
  {
   "cell_type": "markdown",
   "metadata": {},
   "source": [
    "##### 3.🇷​🇺​🇳​"
   ]
  },
  {
   "cell_type": "code",
   "execution_count": 36,
   "metadata": {},
   "outputs": [],
   "source": [
    "!streamlit run first_app.py"
   ]
  },
  {
   "cell_type": "code",
   "execution_count": null,
   "metadata": {},
   "outputs": [],
   "source": []
  }
 ],
 "metadata": {
  "kernelspec": {
   "display_name": "Python 3",
   "language": "python",
   "name": "python3"
  },
  "language_info": {
   "codemirror_mode": {
    "name": "ipython",
    "version": 3
   },
   "file_extension": ".py",
   "mimetype": "text/x-python",
   "name": "python",
   "nbconvert_exporter": "python",
   "pygments_lexer": "ipython3",
   "version": "3.12.3"
  }
 },
 "nbformat": 4,
 "nbformat_minor": 2
}
